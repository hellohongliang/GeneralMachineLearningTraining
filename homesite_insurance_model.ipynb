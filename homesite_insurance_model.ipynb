{
 "cells": [
  {
   "cell_type": "markdown",
   "metadata": {},
   "source": [
    "# This is the demo on classifying for homesite customer analysis\n",
    "\n",
    "`\n",
    "the target is to predict how possible a customer will buy the insurance quote provided by homesite\n",
    "`"
   ]
  },
  {
   "cell_type": "code",
   "execution_count": null,
   "metadata": {},
   "outputs": [],
   "source": [
    "import pandas as pd\n",
    "import numpy as np\n",
    "import matplotlib.pyplot as plt\n",
    "%matplotlib inline\n",
    "import seaborn as sns\n",
    "from sklearn.preprocessing import LabelEncoder,LabelBinarizer\n",
    "from sklearn.ensemble import RandomForestClassifier\n",
    "from scipy.sparse import hstack\n",
    "from scipy.sparse import csr_matrix\n",
    "from sklearn.model_selection import train_test_split\n",
    "from sklearn.metrics import accuracy_score\n",
    "import gc"
   ]
  },
  {
   "cell_type": "code",
   "execution_count": null,
   "metadata": {},
   "outputs": [],
   "source": [
    "# for text minning API from keras\n",
    "from keras.preprocessing.text import Tokenizer\n",
    "from keras.preprocessing.sequence import pad_sequences\n",
    "from keras.layers import Input,Dropout,LSTM,Bidirectional,Embedding,PReLU,MaxPooling1D,Conv1D\n",
    "from keras.layers import GlobalMaxPool1D,Dense,Flatten\n",
    "from keras.layers import Conv1D, MaxPooling1D,concatenate\n",
    "from keras.models import Model\n",
    "from keras.optimizers import Adam\n",
    "import keras.backend as K\n",
    "from keras_tqdm import TQDMNotebookCallback"
   ]
  },
  {
   "cell_type": "code",
   "execution_count": null,
   "metadata": {},
   "outputs": [],
   "source": [
    "train = pd.read_csv('train.csv')\n",
    "# test = pd.read_csv('test.csv')\n",
    "print(train.shape)"
   ]
  },
  {
   "cell_type": "code",
   "execution_count": null,
   "metadata": {},
   "outputs": [],
   "source": [
    "train.head()"
   ]
  },
  {
   "cell_type": "code",
   "execution_count": null,
   "metadata": {},
   "outputs": [],
   "source": [
    "train.dtypes"
   ]
  },
  {
   "cell_type": "code",
   "execution_count": null,
   "metadata": {},
   "outputs": [],
   "source": [
    "null_data = train.isnull().sum()/len(train)\n",
    "# null_data = null_data.sort_values(ascending=False)\n",
    "null_data.sort_values(ascending=False,inplace=True)\n",
    "null_data"
   ]
  },
  {
   "cell_type": "code",
   "execution_count": null,
   "metadata": {},
   "outputs": [],
   "source": [
    "#fill missing value for each cols with missing data\n",
    "cols_with_missing = null_data.loc[null_data.values>0]\n",
    "cols_with_missing.index"
   ]
  },
  {
   "cell_type": "code",
   "execution_count": null,
   "metadata": {},
   "outputs": [],
   "source": [
    "train['PropertyField29'] = train['PropertyField29'].fillna(-1)\n",
    "train['PersonalField84'] = train['PersonalField84'].fillna(-1)\n",
    "train['PropertyField38'] = train['PropertyField38'].fillna('unknown')\n",
    "train['PropertyField36'] = train['PropertyField36'].fillna('unknown')\n",
    "train['PersonalField7'] = train['PropertyField7'].fillna('unknown')\n",
    "train['PropertyField3'] = train['PropertyField3'].fillna('unknown')\n",
    "train['PropertyField34'] = train['PropertyField34'].fillna('unknown')\n",
    "train['PropertyField32'] = train['PropertyField32'].fillna('unknown')\n",
    "train['PropertyField4'] = train['PropertyField4'].fillna('unknown')\n"
   ]
  },
  {
   "cell_type": "code",
   "execution_count": null,
   "metadata": {},
   "outputs": [],
   "source": [
    "train['QuoteConversion_Flag'].sum()/len(train)"
   ]
  },
  {
   "cell_type": "code",
   "execution_count": null,
   "metadata": {},
   "outputs": [],
   "source": [
    "train.loc[train.QuoteConversion_Flag==1].shape[0]"
   ]
  },
  {
   "cell_type": "code",
   "execution_count": null,
   "metadata": {},
   "outputs": [],
   "source": [
    "#deal with time data\n",
    "train['Original_Quote_Date'] = pd.to_datetime(train['Original_Quote_Date'])\n",
    "train['year'] = train['Original_Quote_Date'].dt.year\n",
    "train['month'] = train['Original_Quote_Date'].dt.month\n",
    "train['day'] = train['Original_Quote_Date'].dt.day\n",
    "train['dayofweek'] = train['Original_Quote_Date'].dt.weekday\n",
    "# train_y = train['QuoteConversion_Flag'].values\n",
    "# train.drop(['QuoteConversion_Flag','Original_Quote_Date','QuoteNumber'],axis=1,inplace=True)"
   ]
  },
  {
   "cell_type": "code",
   "execution_count": null,
   "metadata": {},
   "outputs": [],
   "source": [
    "train.head()"
   ]
  },
  {
   "cell_type": "code",
   "execution_count": null,
   "metadata": {},
   "outputs": [],
   "source": [
    "train.drop('Original_Quote_Date',axis=1,inplace=True)"
   ]
  },
  {
   "cell_type": "code",
   "execution_count": null,
   "metadata": {},
   "outputs": [],
   "source": [
    "for col in train.columns:\n",
    "    print(col,train[col].dtypes,train[col].nunique())"
   ]
  },
  {
   "cell_type": "code",
   "execution_count": null,
   "metadata": {},
   "outputs": [],
   "source": [
    "cat_cols = [f for f in train.columns if train[f].dtypes=='object']\n",
    "num_cols = [f for f in train.columns if 'float' in str(train[f].dtypes)]\n",
    "others = [f for f in train.columns if (f not in cat_cols) and (f not in num_cols)]\n",
    "print(len(cat_cols),len(num_cols),len(others),len(train.columns.values))"
   ]
  },
  {
   "cell_type": "code",
   "execution_count": null,
   "metadata": {},
   "outputs": [],
   "source": [
    "cat_cols"
   ]
  },
  {
   "cell_type": "code",
   "execution_count": null,
   "metadata": {},
   "outputs": [],
   "source": [
    "for col in cat_cols:\n",
    "    x = pd.get_dummies(train[col],prefix=col)\n",
    "    train = pd.concat([train,x],axis=1)\n",
    "    train.drop(col,axis=1,inplace=True)"
   ]
  },
  {
   "cell_type": "code",
   "execution_count": null,
   "metadata": {},
   "outputs": [],
   "source": [
    "print(train.shape)\n",
    "train.head()"
   ]
  },
  {
   "cell_type": "code",
   "execution_count": null,
   "metadata": {},
   "outputs": [],
   "source": [
    "train.drop('QuoteNumber',axis=1,inplace=True)"
   ]
  },
  {
   "cell_type": "code",
   "execution_count": null,
   "metadata": {},
   "outputs": [],
   "source": [
    "train,valid = train_test_split(train,shuffle=True,random_state = 788,test_size = 0.2)"
   ]
  },
  {
   "cell_type": "code",
   "execution_count": null,
   "metadata": {},
   "outputs": [],
   "source": [
    "train.shape, valid.shape"
   ]
  },
  {
   "cell_type": "code",
   "execution_count": null,
   "metadata": {},
   "outputs": [],
   "source": [
    "train_y = train['QuoteConversion_Flag']\n",
    "train_X = train.drop('QuoteConversion_Flag',axis=1)\n",
    "\n",
    "valid_y = valid['QuoteConversion_Flag']\n",
    "valid_X = valid.drop('QuoteConversion_Flag',axis=1)"
   ]
  },
  {
   "cell_type": "code",
   "execution_count": null,
   "metadata": {},
   "outputs": [],
   "source": [
    "train_X.head()"
   ]
  },
  {
   "cell_type": "code",
   "execution_count": null,
   "metadata": {},
   "outputs": [],
   "source": [
    "model = RandomForestClassifier(n_estimators=200,max_depth=10,random_state=2019,verbose=2) #benchmark\n",
    "model.fit(train_X,train_y)"
   ]
  },
  {
   "cell_type": "code",
   "execution_count": null,
   "metadata": {},
   "outputs": [],
   "source": [
    "pred_y = model.predict(valid_X)"
   ]
  },
  {
   "cell_type": "code",
   "execution_count": null,
   "metadata": {},
   "outputs": [],
   "source": [
    "pred_y[:20]"
   ]
  },
  {
   "cell_type": "code",
   "execution_count": null,
   "metadata": {},
   "outputs": [],
   "source": [
    "valid_y[:20].values"
   ]
  },
  {
   "cell_type": "code",
   "execution_count": null,
   "metadata": {},
   "outputs": [],
   "source": [
    "from sklearn.metrics import f1_score"
   ]
  },
  {
   "cell_type": "code",
   "execution_count": null,
   "metadata": {},
   "outputs": [],
   "source": [
    "f1_score(valid_y,pred_y)"
   ]
  }
 ],
 "metadata": {
  "kernelspec": {
   "display_name": "Python 3",
   "language": "python",
   "name": "python3"
  },
  "language_info": {
   "codemirror_mode": {
    "name": "ipython",
    "version": 3
   },
   "file_extension": ".py",
   "mimetype": "text/x-python",
   "name": "python",
   "nbconvert_exporter": "python",
   "pygments_lexer": "ipython3",
   "version": "3.6.6"
  }
 },
 "nbformat": 4,
 "nbformat_minor": 2
}
