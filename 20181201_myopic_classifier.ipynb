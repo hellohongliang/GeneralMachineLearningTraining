{
  "nbformat": 4,
  "nbformat_minor": 0,
  "metadata": {
    "colab": {
      "name": "20181201_myopic-classifier.ipynb",
      "version": "0.3.2",
      "provenance": []
    },
    "kernelspec": {
      "name": "python3",
      "display_name": "Python 3"
    }
  },
  "cells": [
    {
      "metadata": {
        "id": "rWzePs7LQucU",
        "colab_type": "text"
      },
      "cell_type": "markdown",
      "source": [
        ""
      ]
    },
    {
      "metadata": {
        "id": "jSA_ZJAbQYfG",
        "colab_type": "text"
      },
      "cell_type": "markdown",
      "source": [
        "### ** Use f1 score to evaluate classifier for myopic detection**"
      ]
    },
    {
      "metadata": {
        "id": "aTJQNgwAQpsl",
        "colab_type": "text"
      },
      "cell_type": "markdown",
      "source": [
        "**1 Load libs**"
      ]
    },
    {
      "metadata": {
        "id": "4tJ1AOViQuoG",
        "colab_type": "code",
        "colab": {}
      },
      "cell_type": "code",
      "source": [
        "import numpy as np\n",
        "import pandas as pd\n",
        "from sklearn.model_selection import train_test_split\n",
        "\n",
        "from sklearn.linear_model import LogisticRegression\n",
        "from sklearn.linear_model import Perceptron\n",
        "\n",
        "from sklearn.metrics import mean_squared_error\n",
        "from sklearn.metrics import mean_absolute_error\n",
        "from sklearn.metrics import log_loss\n",
        "from sklearn.metrics import f1_score\n",
        "from sklearn.metrics import classification_report\n",
        "from sklearn.metrics import precision_recall_fscore_support\n",
        "\n",
        "import seaborn as sns\n",
        "import matplotlib.pyplot as plt\n",
        "%matplotlib inline\n",
        "\n",
        "from nltk.tokenize import sent_tokenize, word_tokenize\n",
        "from nltk.tokenize import RegexpTokenizer\n",
        "from nltk.corpus import stopwords"
      ],
      "execution_count": 0,
      "outputs": []
    },
    {
      "metadata": {
        "id": "oaUjiyHRQwgV",
        "colab_type": "text"
      },
      "cell_type": "markdown",
      "source": [
        "**2. load data**"
      ]
    },
    {
      "metadata": {
        "id": "WQiaFukoQyow",
        "colab_type": "code",
        "colab": {}
      },
      "cell_type": "code",
      "source": [
        "df = pd.read_csv('MYOPIA.csv')"
      ],
      "execution_count": 0,
      "outputs": []
    },
    {
      "metadata": {
        "id": "UCI13OvqaeX-",
        "colab_type": "code",
        "colab": {
          "base_uri": "https://localhost:8080/",
          "height": 34
        },
        "outputId": "b188d544-bcb6-49e2-922b-41049c4e7b9d"
      },
      "cell_type": "code",
      "source": [
        "df.shape"
      ],
      "execution_count": 18,
      "outputs": [
        {
          "output_type": "execute_result",
          "data": {
            "text/plain": [
              "(618, 18)"
            ]
          },
          "metadata": {
            "tags": []
          },
          "execution_count": 18
        }
      ]
    },
    {
      "metadata": {
        "id": "7foPMUMyahTZ",
        "colab_type": "code",
        "colab": {
          "base_uri": "https://localhost:8080/",
          "height": 223
        },
        "outputId": "82c0c208-d042-4452-b37a-be08edad9c7e"
      },
      "cell_type": "code",
      "source": [
        "df.head()"
      ],
      "execution_count": 19,
      "outputs": [
        {
          "output_type": "execute_result",
          "data": {
            "text/html": [
              "<div>\n",
              "<style scoped>\n",
              "    .dataframe tbody tr th:only-of-type {\n",
              "        vertical-align: middle;\n",
              "    }\n",
              "\n",
              "    .dataframe tbody tr th {\n",
              "        vertical-align: top;\n",
              "    }\n",
              "\n",
              "    .dataframe thead th {\n",
              "        text-align: right;\n",
              "    }\n",
              "</style>\n",
              "<table border=\"1\" class=\"dataframe\">\n",
              "  <thead>\n",
              "    <tr style=\"text-align: right;\">\n",
              "      <th></th>\n",
              "      <th>ID</th>\n",
              "      <th>STUDYYEAR</th>\n",
              "      <th>MYOPIC</th>\n",
              "      <th>AGE</th>\n",
              "      <th>GENDER</th>\n",
              "      <th>SPHEQ</th>\n",
              "      <th>AL</th>\n",
              "      <th>ACD</th>\n",
              "      <th>LT</th>\n",
              "      <th>VCD</th>\n",
              "      <th>SPORTHR</th>\n",
              "      <th>READHR</th>\n",
              "      <th>COMPHR</th>\n",
              "      <th>STUDYHR</th>\n",
              "      <th>TVHR</th>\n",
              "      <th>DIOPTERHR</th>\n",
              "      <th>MOMMY</th>\n",
              "      <th>DADMY</th>\n",
              "    </tr>\n",
              "  </thead>\n",
              "  <tbody>\n",
              "    <tr>\n",
              "      <th>0</th>\n",
              "      <td>1</td>\n",
              "      <td>1992</td>\n",
              "      <td>1</td>\n",
              "      <td>6</td>\n",
              "      <td>1</td>\n",
              "      <td>-0.052</td>\n",
              "      <td>21.889999</td>\n",
              "      <td>3.690</td>\n",
              "      <td>3.498</td>\n",
              "      <td>14.70</td>\n",
              "      <td>45</td>\n",
              "      <td>8</td>\n",
              "      <td>0</td>\n",
              "      <td>0</td>\n",
              "      <td>10</td>\n",
              "      <td>34</td>\n",
              "      <td>1</td>\n",
              "      <td>1</td>\n",
              "    </tr>\n",
              "    <tr>\n",
              "      <th>1</th>\n",
              "      <td>2</td>\n",
              "      <td>1995</td>\n",
              "      <td>0</td>\n",
              "      <td>6</td>\n",
              "      <td>1</td>\n",
              "      <td>0.608</td>\n",
              "      <td>22.379999</td>\n",
              "      <td>3.702</td>\n",
              "      <td>3.392</td>\n",
              "      <td>15.29</td>\n",
              "      <td>4</td>\n",
              "      <td>0</td>\n",
              "      <td>1</td>\n",
              "      <td>1</td>\n",
              "      <td>7</td>\n",
              "      <td>12</td>\n",
              "      <td>1</td>\n",
              "      <td>1</td>\n",
              "    </tr>\n",
              "    <tr>\n",
              "      <th>2</th>\n",
              "      <td>3</td>\n",
              "      <td>1991</td>\n",
              "      <td>0</td>\n",
              "      <td>6</td>\n",
              "      <td>1</td>\n",
              "      <td>1.179</td>\n",
              "      <td>22.490000</td>\n",
              "      <td>3.462</td>\n",
              "      <td>3.514</td>\n",
              "      <td>15.52</td>\n",
              "      <td>14</td>\n",
              "      <td>0</td>\n",
              "      <td>2</td>\n",
              "      <td>0</td>\n",
              "      <td>10</td>\n",
              "      <td>14</td>\n",
              "      <td>0</td>\n",
              "      <td>0</td>\n",
              "    </tr>\n",
              "    <tr>\n",
              "      <th>3</th>\n",
              "      <td>4</td>\n",
              "      <td>1990</td>\n",
              "      <td>1</td>\n",
              "      <td>6</td>\n",
              "      <td>1</td>\n",
              "      <td>0.525</td>\n",
              "      <td>22.200001</td>\n",
              "      <td>3.862</td>\n",
              "      <td>3.612</td>\n",
              "      <td>14.73</td>\n",
              "      <td>18</td>\n",
              "      <td>11</td>\n",
              "      <td>0</td>\n",
              "      <td>0</td>\n",
              "      <td>4</td>\n",
              "      <td>37</td>\n",
              "      <td>0</td>\n",
              "      <td>1</td>\n",
              "    </tr>\n",
              "    <tr>\n",
              "      <th>4</th>\n",
              "      <td>5</td>\n",
              "      <td>1995</td>\n",
              "      <td>0</td>\n",
              "      <td>5</td>\n",
              "      <td>0</td>\n",
              "      <td>0.697</td>\n",
              "      <td>23.290001</td>\n",
              "      <td>3.676</td>\n",
              "      <td>3.454</td>\n",
              "      <td>16.16</td>\n",
              "      <td>14</td>\n",
              "      <td>0</td>\n",
              "      <td>0</td>\n",
              "      <td>0</td>\n",
              "      <td>4</td>\n",
              "      <td>4</td>\n",
              "      <td>1</td>\n",
              "      <td>0</td>\n",
              "    </tr>\n",
              "  </tbody>\n",
              "</table>\n",
              "</div>"
            ],
            "text/plain": [
              "   ID  STUDYYEAR  MYOPIC  AGE  GENDER  SPHEQ         AL    ACD     LT    VCD  \\\n",
              "0   1       1992       1    6       1 -0.052  21.889999  3.690  3.498  14.70   \n",
              "1   2       1995       0    6       1  0.608  22.379999  3.702  3.392  15.29   \n",
              "2   3       1991       0    6       1  1.179  22.490000  3.462  3.514  15.52   \n",
              "3   4       1990       1    6       1  0.525  22.200001  3.862  3.612  14.73   \n",
              "4   5       1995       0    5       0  0.697  23.290001  3.676  3.454  16.16   \n",
              "\n",
              "   SPORTHR  READHR  COMPHR  STUDYHR  TVHR  DIOPTERHR  MOMMY  DADMY  \n",
              "0       45       8       0        0    10         34      1      1  \n",
              "1        4       0       1        1     7         12      1      1  \n",
              "2       14       0       2        0    10         14      0      0  \n",
              "3       18      11       0        0     4         37      0      1  \n",
              "4       14       0       0        0     4          4      1      0  "
            ]
          },
          "metadata": {
            "tags": []
          },
          "execution_count": 19
        }
      ]
    },
    {
      "metadata": {
        "id": "aV8gXzx0Qy-5",
        "colab_type": "text"
      },
      "cell_type": "markdown",
      "source": [
        "**3 preprocessing data and prepare train and test data set**"
      ]
    },
    {
      "metadata": {
        "id": "DsKzVyDmaz5H",
        "colab_type": "code",
        "colab": {}
      },
      "cell_type": "code",
      "source": [
        "df.drop('ID',axis=1,inplace=True)"
      ],
      "execution_count": 0,
      "outputs": []
    },
    {
      "metadata": {
        "id": "SWWL5mW8cDt8",
        "colab_type": "code",
        "colab": {}
      },
      "cell_type": "code",
      "source": [
        "# please drop AGE and GENDER together?\n",
        "# df.drop(['AGE','GENDER'],axis=1,inplace=True)"
      ],
      "execution_count": 0,
      "outputs": []
    },
    {
      "metadata": {
        "id": "-DhS3DlHbeq8",
        "colab_type": "code",
        "colab": {
          "base_uri": "https://localhost:8080/",
          "height": 223
        },
        "outputId": "501ee776-7bfe-4da7-b05d-11dd88277622"
      },
      "cell_type": "code",
      "source": [
        "df.head()"
      ],
      "execution_count": 22,
      "outputs": [
        {
          "output_type": "execute_result",
          "data": {
            "text/html": [
              "<div>\n",
              "<style scoped>\n",
              "    .dataframe tbody tr th:only-of-type {\n",
              "        vertical-align: middle;\n",
              "    }\n",
              "\n",
              "    .dataframe tbody tr th {\n",
              "        vertical-align: top;\n",
              "    }\n",
              "\n",
              "    .dataframe thead th {\n",
              "        text-align: right;\n",
              "    }\n",
              "</style>\n",
              "<table border=\"1\" class=\"dataframe\">\n",
              "  <thead>\n",
              "    <tr style=\"text-align: right;\">\n",
              "      <th></th>\n",
              "      <th>STUDYYEAR</th>\n",
              "      <th>MYOPIC</th>\n",
              "      <th>AGE</th>\n",
              "      <th>GENDER</th>\n",
              "      <th>SPHEQ</th>\n",
              "      <th>AL</th>\n",
              "      <th>ACD</th>\n",
              "      <th>LT</th>\n",
              "      <th>VCD</th>\n",
              "      <th>SPORTHR</th>\n",
              "      <th>READHR</th>\n",
              "      <th>COMPHR</th>\n",
              "      <th>STUDYHR</th>\n",
              "      <th>TVHR</th>\n",
              "      <th>DIOPTERHR</th>\n",
              "      <th>MOMMY</th>\n",
              "      <th>DADMY</th>\n",
              "    </tr>\n",
              "  </thead>\n",
              "  <tbody>\n",
              "    <tr>\n",
              "      <th>0</th>\n",
              "      <td>1992</td>\n",
              "      <td>1</td>\n",
              "      <td>6</td>\n",
              "      <td>1</td>\n",
              "      <td>-0.052</td>\n",
              "      <td>21.889999</td>\n",
              "      <td>3.690</td>\n",
              "      <td>3.498</td>\n",
              "      <td>14.70</td>\n",
              "      <td>45</td>\n",
              "      <td>8</td>\n",
              "      <td>0</td>\n",
              "      <td>0</td>\n",
              "      <td>10</td>\n",
              "      <td>34</td>\n",
              "      <td>1</td>\n",
              "      <td>1</td>\n",
              "    </tr>\n",
              "    <tr>\n",
              "      <th>1</th>\n",
              "      <td>1995</td>\n",
              "      <td>0</td>\n",
              "      <td>6</td>\n",
              "      <td>1</td>\n",
              "      <td>0.608</td>\n",
              "      <td>22.379999</td>\n",
              "      <td>3.702</td>\n",
              "      <td>3.392</td>\n",
              "      <td>15.29</td>\n",
              "      <td>4</td>\n",
              "      <td>0</td>\n",
              "      <td>1</td>\n",
              "      <td>1</td>\n",
              "      <td>7</td>\n",
              "      <td>12</td>\n",
              "      <td>1</td>\n",
              "      <td>1</td>\n",
              "    </tr>\n",
              "    <tr>\n",
              "      <th>2</th>\n",
              "      <td>1991</td>\n",
              "      <td>0</td>\n",
              "      <td>6</td>\n",
              "      <td>1</td>\n",
              "      <td>1.179</td>\n",
              "      <td>22.490000</td>\n",
              "      <td>3.462</td>\n",
              "      <td>3.514</td>\n",
              "      <td>15.52</td>\n",
              "      <td>14</td>\n",
              "      <td>0</td>\n",
              "      <td>2</td>\n",
              "      <td>0</td>\n",
              "      <td>10</td>\n",
              "      <td>14</td>\n",
              "      <td>0</td>\n",
              "      <td>0</td>\n",
              "    </tr>\n",
              "    <tr>\n",
              "      <th>3</th>\n",
              "      <td>1990</td>\n",
              "      <td>1</td>\n",
              "      <td>6</td>\n",
              "      <td>1</td>\n",
              "      <td>0.525</td>\n",
              "      <td>22.200001</td>\n",
              "      <td>3.862</td>\n",
              "      <td>3.612</td>\n",
              "      <td>14.73</td>\n",
              "      <td>18</td>\n",
              "      <td>11</td>\n",
              "      <td>0</td>\n",
              "      <td>0</td>\n",
              "      <td>4</td>\n",
              "      <td>37</td>\n",
              "      <td>0</td>\n",
              "      <td>1</td>\n",
              "    </tr>\n",
              "    <tr>\n",
              "      <th>4</th>\n",
              "      <td>1995</td>\n",
              "      <td>0</td>\n",
              "      <td>5</td>\n",
              "      <td>0</td>\n",
              "      <td>0.697</td>\n",
              "      <td>23.290001</td>\n",
              "      <td>3.676</td>\n",
              "      <td>3.454</td>\n",
              "      <td>16.16</td>\n",
              "      <td>14</td>\n",
              "      <td>0</td>\n",
              "      <td>0</td>\n",
              "      <td>0</td>\n",
              "      <td>4</td>\n",
              "      <td>4</td>\n",
              "      <td>1</td>\n",
              "      <td>0</td>\n",
              "    </tr>\n",
              "  </tbody>\n",
              "</table>\n",
              "</div>"
            ],
            "text/plain": [
              "   STUDYYEAR  MYOPIC  AGE  GENDER  SPHEQ         AL    ACD     LT    VCD  \\\n",
              "0       1992       1    6       1 -0.052  21.889999  3.690  3.498  14.70   \n",
              "1       1995       0    6       1  0.608  22.379999  3.702  3.392  15.29   \n",
              "2       1991       0    6       1  1.179  22.490000  3.462  3.514  15.52   \n",
              "3       1990       1    6       1  0.525  22.200001  3.862  3.612  14.73   \n",
              "4       1995       0    5       0  0.697  23.290001  3.676  3.454  16.16   \n",
              "\n",
              "   SPORTHR  READHR  COMPHR  STUDYHR  TVHR  DIOPTERHR  MOMMY  DADMY  \n",
              "0       45       8       0        0    10         34      1      1  \n",
              "1        4       0       1        1     7         12      1      1  \n",
              "2       14       0       2        0    10         14      0      0  \n",
              "3       18      11       0        0     4         37      0      1  \n",
              "4       14       0       0        0     4          4      1      0  "
            ]
          },
          "metadata": {
            "tags": []
          },
          "execution_count": 22
        }
      ]
    },
    {
      "metadata": {
        "id": "AtJTx8kfc-5H",
        "colab_type": "code",
        "colab": {}
      },
      "cell_type": "code",
      "source": [
        "# extract target variable: MYOPIC\n",
        "y = df['MYOPIC']"
      ],
      "execution_count": 0,
      "outputs": []
    },
    {
      "metadata": {
        "id": "mXJqvUk4dLvc",
        "colab_type": "code",
        "colab": {}
      },
      "cell_type": "code",
      "source": [
        "df.drop('MYOPIC',axis=1,inplace=True)"
      ],
      "execution_count": 0,
      "outputs": []
    },
    {
      "metadata": {
        "id": "PvT9TDzJdSSL",
        "colab_type": "code",
        "colab": {
          "base_uri": "https://localhost:8080/",
          "height": 203
        },
        "outputId": "262f5694-9f7d-4eb2-97af-296c1f32df7e"
      },
      "cell_type": "code",
      "source": [
        "df.head()"
      ],
      "execution_count": 25,
      "outputs": [
        {
          "output_type": "execute_result",
          "data": {
            "text/html": [
              "<div>\n",
              "<style scoped>\n",
              "    .dataframe tbody tr th:only-of-type {\n",
              "        vertical-align: middle;\n",
              "    }\n",
              "\n",
              "    .dataframe tbody tr th {\n",
              "        vertical-align: top;\n",
              "    }\n",
              "\n",
              "    .dataframe thead th {\n",
              "        text-align: right;\n",
              "    }\n",
              "</style>\n",
              "<table border=\"1\" class=\"dataframe\">\n",
              "  <thead>\n",
              "    <tr style=\"text-align: right;\">\n",
              "      <th></th>\n",
              "      <th>STUDYYEAR</th>\n",
              "      <th>AGE</th>\n",
              "      <th>GENDER</th>\n",
              "      <th>SPHEQ</th>\n",
              "      <th>AL</th>\n",
              "      <th>ACD</th>\n",
              "      <th>LT</th>\n",
              "      <th>VCD</th>\n",
              "      <th>SPORTHR</th>\n",
              "      <th>READHR</th>\n",
              "      <th>COMPHR</th>\n",
              "      <th>STUDYHR</th>\n",
              "      <th>TVHR</th>\n",
              "      <th>DIOPTERHR</th>\n",
              "      <th>MOMMY</th>\n",
              "      <th>DADMY</th>\n",
              "    </tr>\n",
              "  </thead>\n",
              "  <tbody>\n",
              "    <tr>\n",
              "      <th>0</th>\n",
              "      <td>1992</td>\n",
              "      <td>6</td>\n",
              "      <td>1</td>\n",
              "      <td>-0.052</td>\n",
              "      <td>21.889999</td>\n",
              "      <td>3.690</td>\n",
              "      <td>3.498</td>\n",
              "      <td>14.70</td>\n",
              "      <td>45</td>\n",
              "      <td>8</td>\n",
              "      <td>0</td>\n",
              "      <td>0</td>\n",
              "      <td>10</td>\n",
              "      <td>34</td>\n",
              "      <td>1</td>\n",
              "      <td>1</td>\n",
              "    </tr>\n",
              "    <tr>\n",
              "      <th>1</th>\n",
              "      <td>1995</td>\n",
              "      <td>6</td>\n",
              "      <td>1</td>\n",
              "      <td>0.608</td>\n",
              "      <td>22.379999</td>\n",
              "      <td>3.702</td>\n",
              "      <td>3.392</td>\n",
              "      <td>15.29</td>\n",
              "      <td>4</td>\n",
              "      <td>0</td>\n",
              "      <td>1</td>\n",
              "      <td>1</td>\n",
              "      <td>7</td>\n",
              "      <td>12</td>\n",
              "      <td>1</td>\n",
              "      <td>1</td>\n",
              "    </tr>\n",
              "    <tr>\n",
              "      <th>2</th>\n",
              "      <td>1991</td>\n",
              "      <td>6</td>\n",
              "      <td>1</td>\n",
              "      <td>1.179</td>\n",
              "      <td>22.490000</td>\n",
              "      <td>3.462</td>\n",
              "      <td>3.514</td>\n",
              "      <td>15.52</td>\n",
              "      <td>14</td>\n",
              "      <td>0</td>\n",
              "      <td>2</td>\n",
              "      <td>0</td>\n",
              "      <td>10</td>\n",
              "      <td>14</td>\n",
              "      <td>0</td>\n",
              "      <td>0</td>\n",
              "    </tr>\n",
              "    <tr>\n",
              "      <th>3</th>\n",
              "      <td>1990</td>\n",
              "      <td>6</td>\n",
              "      <td>1</td>\n",
              "      <td>0.525</td>\n",
              "      <td>22.200001</td>\n",
              "      <td>3.862</td>\n",
              "      <td>3.612</td>\n",
              "      <td>14.73</td>\n",
              "      <td>18</td>\n",
              "      <td>11</td>\n",
              "      <td>0</td>\n",
              "      <td>0</td>\n",
              "      <td>4</td>\n",
              "      <td>37</td>\n",
              "      <td>0</td>\n",
              "      <td>1</td>\n",
              "    </tr>\n",
              "    <tr>\n",
              "      <th>4</th>\n",
              "      <td>1995</td>\n",
              "      <td>5</td>\n",
              "      <td>0</td>\n",
              "      <td>0.697</td>\n",
              "      <td>23.290001</td>\n",
              "      <td>3.676</td>\n",
              "      <td>3.454</td>\n",
              "      <td>16.16</td>\n",
              "      <td>14</td>\n",
              "      <td>0</td>\n",
              "      <td>0</td>\n",
              "      <td>0</td>\n",
              "      <td>4</td>\n",
              "      <td>4</td>\n",
              "      <td>1</td>\n",
              "      <td>0</td>\n",
              "    </tr>\n",
              "  </tbody>\n",
              "</table>\n",
              "</div>"
            ],
            "text/plain": [
              "   STUDYYEAR  AGE  GENDER  SPHEQ         AL    ACD     LT    VCD  SPORTHR  \\\n",
              "0       1992    6       1 -0.052  21.889999  3.690  3.498  14.70       45   \n",
              "1       1995    6       1  0.608  22.379999  3.702  3.392  15.29        4   \n",
              "2       1991    6       1  1.179  22.490000  3.462  3.514  15.52       14   \n",
              "3       1990    6       1  0.525  22.200001  3.862  3.612  14.73       18   \n",
              "4       1995    5       0  0.697  23.290001  3.676  3.454  16.16       14   \n",
              "\n",
              "   READHR  COMPHR  STUDYHR  TVHR  DIOPTERHR  MOMMY  DADMY  \n",
              "0       8       0        0    10         34      1      1  \n",
              "1       0       1        1     7         12      1      1  \n",
              "2       0       2        0    10         14      0      0  \n",
              "3      11       0        0     4         37      0      1  \n",
              "4       0       0        0     4          4      1      0  "
            ]
          },
          "metadata": {
            "tags": []
          },
          "execution_count": 25
        }
      ]
    },
    {
      "metadata": {
        "id": "XJqwr2d9dmge",
        "colab_type": "code",
        "colab": {}
      },
      "cell_type": "code",
      "source": [
        "X = df"
      ],
      "execution_count": 0,
      "outputs": []
    },
    {
      "metadata": {
        "id": "Py2JNJlldtps",
        "colab_type": "code",
        "colab": {}
      },
      "cell_type": "code",
      "source": [
        ""
      ],
      "execution_count": 0,
      "outputs": []
    },
    {
      "metadata": {
        "id": "PTi3RvzadywI",
        "colab_type": "text"
      },
      "cell_type": "markdown",
      "source": [
        "use KFold to split your data set"
      ]
    },
    {
      "metadata": {
        "id": "0tMMfQlSd2p8",
        "colab_type": "code",
        "colab": {}
      },
      "cell_type": "code",
      "source": [
        "from sklearn.model_selection import KFold"
      ],
      "execution_count": 0,
      "outputs": []
    },
    {
      "metadata": {
        "id": "CQ-BrskheToq",
        "colab_type": "code",
        "colab": {}
      },
      "cell_type": "code",
      "source": [
        "kf = KFold(n_splits=5,shuffle=True,random_state=886)"
      ],
      "execution_count": 0,
      "outputs": []
    },
    {
      "metadata": {
        "id": "Eg7zUAz3e_HM",
        "colab_type": "code",
        "colab": {}
      },
      "cell_type": "code",
      "source": [
        "# x = np.array([0.2,0.7,12,98,4])\n",
        "# for i,(idx1,idx2) in enumerate(kf.split(x)):\n",
        "#   print('we are doing {}th cross'.format(i+1))\n",
        "#   print(idx1,idx2)\n",
        "#   print(x[idx1],x[idx2])\n",
        "#   print('------------------')"
      ],
      "execution_count": 0,
      "outputs": []
    },
    {
      "metadata": {
        "id": "P0ZsOKabhgJE",
        "colab_type": "code",
        "colab": {
          "base_uri": "https://localhost:8080/",
          "height": 203
        },
        "outputId": "a5d1210a-2be1-4f5a-fad0-74de2ce2090d"
      },
      "cell_type": "code",
      "source": [
        "X.head()"
      ],
      "execution_count": 40,
      "outputs": [
        {
          "output_type": "execute_result",
          "data": {
            "text/html": [
              "<div>\n",
              "<style scoped>\n",
              "    .dataframe tbody tr th:only-of-type {\n",
              "        vertical-align: middle;\n",
              "    }\n",
              "\n",
              "    .dataframe tbody tr th {\n",
              "        vertical-align: top;\n",
              "    }\n",
              "\n",
              "    .dataframe thead th {\n",
              "        text-align: right;\n",
              "    }\n",
              "</style>\n",
              "<table border=\"1\" class=\"dataframe\">\n",
              "  <thead>\n",
              "    <tr style=\"text-align: right;\">\n",
              "      <th></th>\n",
              "      <th>STUDYYEAR</th>\n",
              "      <th>AGE</th>\n",
              "      <th>GENDER</th>\n",
              "      <th>SPHEQ</th>\n",
              "      <th>AL</th>\n",
              "      <th>ACD</th>\n",
              "      <th>LT</th>\n",
              "      <th>VCD</th>\n",
              "      <th>SPORTHR</th>\n",
              "      <th>READHR</th>\n",
              "      <th>COMPHR</th>\n",
              "      <th>STUDYHR</th>\n",
              "      <th>TVHR</th>\n",
              "      <th>DIOPTERHR</th>\n",
              "      <th>MOMMY</th>\n",
              "      <th>DADMY</th>\n",
              "    </tr>\n",
              "  </thead>\n",
              "  <tbody>\n",
              "    <tr>\n",
              "      <th>0</th>\n",
              "      <td>1992</td>\n",
              "      <td>6</td>\n",
              "      <td>1</td>\n",
              "      <td>-0.052</td>\n",
              "      <td>21.889999</td>\n",
              "      <td>3.690</td>\n",
              "      <td>3.498</td>\n",
              "      <td>14.70</td>\n",
              "      <td>45</td>\n",
              "      <td>8</td>\n",
              "      <td>0</td>\n",
              "      <td>0</td>\n",
              "      <td>10</td>\n",
              "      <td>34</td>\n",
              "      <td>1</td>\n",
              "      <td>1</td>\n",
              "    </tr>\n",
              "    <tr>\n",
              "      <th>1</th>\n",
              "      <td>1995</td>\n",
              "      <td>6</td>\n",
              "      <td>1</td>\n",
              "      <td>0.608</td>\n",
              "      <td>22.379999</td>\n",
              "      <td>3.702</td>\n",
              "      <td>3.392</td>\n",
              "      <td>15.29</td>\n",
              "      <td>4</td>\n",
              "      <td>0</td>\n",
              "      <td>1</td>\n",
              "      <td>1</td>\n",
              "      <td>7</td>\n",
              "      <td>12</td>\n",
              "      <td>1</td>\n",
              "      <td>1</td>\n",
              "    </tr>\n",
              "    <tr>\n",
              "      <th>2</th>\n",
              "      <td>1991</td>\n",
              "      <td>6</td>\n",
              "      <td>1</td>\n",
              "      <td>1.179</td>\n",
              "      <td>22.490000</td>\n",
              "      <td>3.462</td>\n",
              "      <td>3.514</td>\n",
              "      <td>15.52</td>\n",
              "      <td>14</td>\n",
              "      <td>0</td>\n",
              "      <td>2</td>\n",
              "      <td>0</td>\n",
              "      <td>10</td>\n",
              "      <td>14</td>\n",
              "      <td>0</td>\n",
              "      <td>0</td>\n",
              "    </tr>\n",
              "    <tr>\n",
              "      <th>3</th>\n",
              "      <td>1990</td>\n",
              "      <td>6</td>\n",
              "      <td>1</td>\n",
              "      <td>0.525</td>\n",
              "      <td>22.200001</td>\n",
              "      <td>3.862</td>\n",
              "      <td>3.612</td>\n",
              "      <td>14.73</td>\n",
              "      <td>18</td>\n",
              "      <td>11</td>\n",
              "      <td>0</td>\n",
              "      <td>0</td>\n",
              "      <td>4</td>\n",
              "      <td>37</td>\n",
              "      <td>0</td>\n",
              "      <td>1</td>\n",
              "    </tr>\n",
              "    <tr>\n",
              "      <th>4</th>\n",
              "      <td>1995</td>\n",
              "      <td>5</td>\n",
              "      <td>0</td>\n",
              "      <td>0.697</td>\n",
              "      <td>23.290001</td>\n",
              "      <td>3.676</td>\n",
              "      <td>3.454</td>\n",
              "      <td>16.16</td>\n",
              "      <td>14</td>\n",
              "      <td>0</td>\n",
              "      <td>0</td>\n",
              "      <td>0</td>\n",
              "      <td>4</td>\n",
              "      <td>4</td>\n",
              "      <td>1</td>\n",
              "      <td>0</td>\n",
              "    </tr>\n",
              "  </tbody>\n",
              "</table>\n",
              "</div>"
            ],
            "text/plain": [
              "   STUDYYEAR  AGE  GENDER  SPHEQ         AL    ACD     LT    VCD  SPORTHR  \\\n",
              "0       1992    6       1 -0.052  21.889999  3.690  3.498  14.70       45   \n",
              "1       1995    6       1  0.608  22.379999  3.702  3.392  15.29        4   \n",
              "2       1991    6       1  1.179  22.490000  3.462  3.514  15.52       14   \n",
              "3       1990    6       1  0.525  22.200001  3.862  3.612  14.73       18   \n",
              "4       1995    5       0  0.697  23.290001  3.676  3.454  16.16       14   \n",
              "\n",
              "   READHR  COMPHR  STUDYHR  TVHR  DIOPTERHR  MOMMY  DADMY  \n",
              "0       8       0        0    10         34      1      1  \n",
              "1       0       1        1     7         12      1      1  \n",
              "2       0       2        0    10         14      0      0  \n",
              "3      11       0        0     4         37      0      1  \n",
              "4       0       0        0     4          4      1      0  "
            ]
          },
          "metadata": {
            "tags": []
          },
          "execution_count": 40
        }
      ]
    },
    {
      "metadata": {
        "id": "fVNzilwAe_Kj",
        "colab_type": "code",
        "colab": {
          "base_uri": "https://localhost:8080/",
          "height": 103
        },
        "outputId": "9e6c6b70-6dc3-4571-a198-967a579fab70"
      },
      "cell_type": "code",
      "source": [
        "for i,(idx1,idx2) in enumerate(kf.split(X)):\n",
        "  train_X = X.loc[idx1]\n",
        "  train_y = y[idx1]\n",
        "  \n",
        "  valid_X = X.loc[idx2]\n",
        "  valid_y = y[idx2]\n",
        "  \n",
        "  model = LogisticRegression()\n",
        "  model.fit(train_X,train_y)\n",
        "  pred_y = model.predict(valid_X)\n",
        "  print('current f1 score is:{}'.format(f1_score(valid_y,(pred_y>0.5)*1)))"
      ],
      "execution_count": 44,
      "outputs": [
        {
          "output_type": "stream",
          "text": [
            "current f1 score is:0.41379310344827586\n",
            "current f1 score is:0.3157894736842105\n",
            "current f1 score is:0.3703703703703704\n",
            "current f1 score is:0.46153846153846156\n",
            "current f1 score is:0.13333333333333333\n"
          ],
          "name": "stdout"
        }
      ]
    },
    {
      "metadata": {
        "id": "xK8IzxrLo46e",
        "colab_type": "code",
        "colab": {}
      },
      "cell_type": "code",
      "source": [
        ""
      ],
      "execution_count": 0,
      "outputs": []
    },
    {
      "metadata": {
        "id": "jPAJd6uKs0uG",
        "colab_type": "code",
        "colab": {}
      },
      "cell_type": "code",
      "source": [
        ""
      ],
      "execution_count": 0,
      "outputs": []
    },
    {
      "metadata": {
        "id": "afTkO3KDs1Pq",
        "colab_type": "text"
      },
      "cell_type": "markdown",
      "source": [
        "**Naive bayes for spam mail detection **"
      ]
    },
    {
      "metadata": {
        "id": "T2gODaVixHTN",
        "colab_type": "code",
        "colab": {}
      },
      "cell_type": "code",
      "source": [
        "import string"
      ],
      "execution_count": 0,
      "outputs": []
    },
    {
      "metadata": {
        "id": "O4eO-UoQnSAr",
        "colab_type": "code",
        "colab": {
          "base_uri": "https://localhost:8080/",
          "height": 34
        },
        "outputId": "b62ccbb2-2597-4eba-ca90-da04bf8e455c"
      },
      "cell_type": "code",
      "source": [
        "spam = pd.read_csv('spam.csv',encoding='latin-1')\n",
        "print(spam.shape)"
      ],
      "execution_count": 67,
      "outputs": [
        {
          "output_type": "stream",
          "text": [
            "(5572, 5)\n"
          ],
          "name": "stdout"
        }
      ]
    },
    {
      "metadata": {
        "id": "ybMJjuXauiJI",
        "colab_type": "code",
        "colab": {
          "base_uri": "https://localhost:8080/",
          "height": 203
        },
        "outputId": "c808e439-962a-4745-dc0d-04d2d6edc68c"
      },
      "cell_type": "code",
      "source": [
        "spam.head()"
      ],
      "execution_count": 68,
      "outputs": [
        {
          "output_type": "execute_result",
          "data": {
            "text/html": [
              "<div>\n",
              "<style scoped>\n",
              "    .dataframe tbody tr th:only-of-type {\n",
              "        vertical-align: middle;\n",
              "    }\n",
              "\n",
              "    .dataframe tbody tr th {\n",
              "        vertical-align: top;\n",
              "    }\n",
              "\n",
              "    .dataframe thead th {\n",
              "        text-align: right;\n",
              "    }\n",
              "</style>\n",
              "<table border=\"1\" class=\"dataframe\">\n",
              "  <thead>\n",
              "    <tr style=\"text-align: right;\">\n",
              "      <th></th>\n",
              "      <th>v1</th>\n",
              "      <th>v2</th>\n",
              "      <th>Unnamed: 2</th>\n",
              "      <th>Unnamed: 3</th>\n",
              "      <th>Unnamed: 4</th>\n",
              "    </tr>\n",
              "  </thead>\n",
              "  <tbody>\n",
              "    <tr>\n",
              "      <th>0</th>\n",
              "      <td>ham</td>\n",
              "      <td>Go until jurong point, crazy.. Available only ...</td>\n",
              "      <td>NaN</td>\n",
              "      <td>NaN</td>\n",
              "      <td>NaN</td>\n",
              "    </tr>\n",
              "    <tr>\n",
              "      <th>1</th>\n",
              "      <td>ham</td>\n",
              "      <td>Ok lar... Joking wif u oni...</td>\n",
              "      <td>NaN</td>\n",
              "      <td>NaN</td>\n",
              "      <td>NaN</td>\n",
              "    </tr>\n",
              "    <tr>\n",
              "      <th>2</th>\n",
              "      <td>spam</td>\n",
              "      <td>Free entry in 2 a wkly comp to win FA Cup fina...</td>\n",
              "      <td>NaN</td>\n",
              "      <td>NaN</td>\n",
              "      <td>NaN</td>\n",
              "    </tr>\n",
              "    <tr>\n",
              "      <th>3</th>\n",
              "      <td>ham</td>\n",
              "      <td>U dun say so early hor... U c already then say...</td>\n",
              "      <td>NaN</td>\n",
              "      <td>NaN</td>\n",
              "      <td>NaN</td>\n",
              "    </tr>\n",
              "    <tr>\n",
              "      <th>4</th>\n",
              "      <td>ham</td>\n",
              "      <td>Nah I don't think he goes to usf, he lives aro...</td>\n",
              "      <td>NaN</td>\n",
              "      <td>NaN</td>\n",
              "      <td>NaN</td>\n",
              "    </tr>\n",
              "  </tbody>\n",
              "</table>\n",
              "</div>"
            ],
            "text/plain": [
              "     v1                                                 v2 Unnamed: 2  \\\n",
              "0   ham  Go until jurong point, crazy.. Available only ...        NaN   \n",
              "1   ham                      Ok lar... Joking wif u oni...        NaN   \n",
              "2  spam  Free entry in 2 a wkly comp to win FA Cup fina...        NaN   \n",
              "3   ham  U dun say so early hor... U c already then say...        NaN   \n",
              "4   ham  Nah I don't think he goes to usf, he lives aro...        NaN   \n",
              "\n",
              "  Unnamed: 3 Unnamed: 4  \n",
              "0        NaN        NaN  \n",
              "1        NaN        NaN  \n",
              "2        NaN        NaN  \n",
              "3        NaN        NaN  \n",
              "4        NaN        NaN  "
            ]
          },
          "metadata": {
            "tags": []
          },
          "execution_count": 68
        }
      ]
    },
    {
      "metadata": {
        "id": "X0trQmoRuraO",
        "colab_type": "code",
        "colab": {}
      },
      "cell_type": "code",
      "source": [
        "spam.drop(['Unnamed: 2',\t'Unnamed: 3',\t'Unnamed: 4'],axis=1,inplace=True)"
      ],
      "execution_count": 0,
      "outputs": []
    },
    {
      "metadata": {
        "id": "q_4xRavrvE41",
        "colab_type": "code",
        "colab": {
          "base_uri": "https://localhost:8080/",
          "height": 203
        },
        "outputId": "619c6967-1ebd-4c77-8fab-c2b8cd18bd95"
      },
      "cell_type": "code",
      "source": [
        "spam.head()"
      ],
      "execution_count": 50,
      "outputs": [
        {
          "output_type": "execute_result",
          "data": {
            "text/html": [
              "<div>\n",
              "<style scoped>\n",
              "    .dataframe tbody tr th:only-of-type {\n",
              "        vertical-align: middle;\n",
              "    }\n",
              "\n",
              "    .dataframe tbody tr th {\n",
              "        vertical-align: top;\n",
              "    }\n",
              "\n",
              "    .dataframe thead th {\n",
              "        text-align: right;\n",
              "    }\n",
              "</style>\n",
              "<table border=\"1\" class=\"dataframe\">\n",
              "  <thead>\n",
              "    <tr style=\"text-align: right;\">\n",
              "      <th></th>\n",
              "      <th>v1</th>\n",
              "      <th>v2</th>\n",
              "    </tr>\n",
              "  </thead>\n",
              "  <tbody>\n",
              "    <tr>\n",
              "      <th>0</th>\n",
              "      <td>ham</td>\n",
              "      <td>Go until jurong point, crazy.. Available only ...</td>\n",
              "    </tr>\n",
              "    <tr>\n",
              "      <th>1</th>\n",
              "      <td>ham</td>\n",
              "      <td>Ok lar... Joking wif u oni...</td>\n",
              "    </tr>\n",
              "    <tr>\n",
              "      <th>2</th>\n",
              "      <td>spam</td>\n",
              "      <td>Free entry in 2 a wkly comp to win FA Cup fina...</td>\n",
              "    </tr>\n",
              "    <tr>\n",
              "      <th>3</th>\n",
              "      <td>ham</td>\n",
              "      <td>U dun say so early hor... U c already then say...</td>\n",
              "    </tr>\n",
              "    <tr>\n",
              "      <th>4</th>\n",
              "      <td>ham</td>\n",
              "      <td>Nah I don't think he goes to usf, he lives aro...</td>\n",
              "    </tr>\n",
              "  </tbody>\n",
              "</table>\n",
              "</div>"
            ],
            "text/plain": [
              "     v1                                                 v2\n",
              "0   ham  Go until jurong point, crazy.. Available only ...\n",
              "1   ham                      Ok lar... Joking wif u oni...\n",
              "2  spam  Free entry in 2 a wkly comp to win FA Cup fina...\n",
              "3   ham  U dun say so early hor... U c already then say...\n",
              "4   ham  Nah I don't think he goes to usf, he lives aro..."
            ]
          },
          "metadata": {
            "tags": []
          },
          "execution_count": 50
        }
      ]
    },
    {
      "metadata": {
        "id": "3bW8PDiIvKhK",
        "colab_type": "text"
      },
      "cell_type": "markdown",
      "source": [
        "**Preprocessing your text**"
      ]
    },
    {
      "metadata": {
        "id": "Ij8SlBfzvNnn",
        "colab_type": "code",
        "colab": {}
      },
      "cell_type": "code",
      "source": [
        "def process_text(text):\n",
        "    nopunc = [char for char in text if char not in string.punctuation]\n",
        "    nopunc = ''.join(nopunc)\n",
        "    clean_words = [word for word in nopunc.split(' ') if word.lower() not in stopwords.words('english')]\n",
        "    return clean_words"
      ],
      "execution_count": 0,
      "outputs": []
    },
    {
      "metadata": {
        "id": "nox3DNNmzCmr",
        "colab_type": "code",
        "colab": {}
      },
      "cell_type": "code",
      "source": [
        "import nltk\n",
        "nltk.download('stopwords')"
      ],
      "execution_count": 0,
      "outputs": []
    },
    {
      "metadata": {
        "id": "5FjoeQq1wzQX",
        "colab_type": "code",
        "colab": {}
      },
      "cell_type": "code",
      "source": [
        "spam['v2'] = spam['v2'].apply(lambda x:process_text(x))"
      ],
      "execution_count": 0,
      "outputs": []
    },
    {
      "metadata": {
        "id": "AGF6wJI70GaY",
        "colab_type": "code",
        "colab": {
          "base_uri": "https://localhost:8080/",
          "height": 203
        },
        "outputId": "38a36541-6814-4c3e-ec40-dbeb0375d1e9"
      },
      "cell_type": "code",
      "source": [
        "spam.head()"
      ],
      "execution_count": 71,
      "outputs": [
        {
          "output_type": "execute_result",
          "data": {
            "text/html": [
              "<div>\n",
              "<style scoped>\n",
              "    .dataframe tbody tr th:only-of-type {\n",
              "        vertical-align: middle;\n",
              "    }\n",
              "\n",
              "    .dataframe tbody tr th {\n",
              "        vertical-align: top;\n",
              "    }\n",
              "\n",
              "    .dataframe thead th {\n",
              "        text-align: right;\n",
              "    }\n",
              "</style>\n",
              "<table border=\"1\" class=\"dataframe\">\n",
              "  <thead>\n",
              "    <tr style=\"text-align: right;\">\n",
              "      <th></th>\n",
              "      <th>v1</th>\n",
              "      <th>v2</th>\n",
              "    </tr>\n",
              "  </thead>\n",
              "  <tbody>\n",
              "    <tr>\n",
              "      <th>0</th>\n",
              "      <td>ham</td>\n",
              "      <td>[Go, jurong, point, crazy, Available, bugis, n...</td>\n",
              "    </tr>\n",
              "    <tr>\n",
              "      <th>1</th>\n",
              "      <td>ham</td>\n",
              "      <td>[Ok, lar, Joking, wif, u, oni]</td>\n",
              "    </tr>\n",
              "    <tr>\n",
              "      <th>2</th>\n",
              "      <td>spam</td>\n",
              "      <td>[Free, entry, 2, wkly, comp, win, FA, Cup, fin...</td>\n",
              "    </tr>\n",
              "    <tr>\n",
              "      <th>3</th>\n",
              "      <td>ham</td>\n",
              "      <td>[U, dun, say, early, hor, U, c, already, say]</td>\n",
              "    </tr>\n",
              "    <tr>\n",
              "      <th>4</th>\n",
              "      <td>ham</td>\n",
              "      <td>[Nah, dont, think, goes, usf, lives, around, t...</td>\n",
              "    </tr>\n",
              "  </tbody>\n",
              "</table>\n",
              "</div>"
            ],
            "text/plain": [
              "     v1                                                 v2\n",
              "0   ham  [Go, jurong, point, crazy, Available, bugis, n...\n",
              "1   ham                     [Ok, lar, Joking, wif, u, oni]\n",
              "2  spam  [Free, entry, 2, wkly, comp, win, FA, Cup, fin...\n",
              "3   ham      [U, dun, say, early, hor, U, c, already, say]\n",
              "4   ham  [Nah, dont, think, goes, usf, lives, around, t..."
            ]
          },
          "metadata": {
            "tags": []
          },
          "execution_count": 71
        }
      ]
    },
    {
      "metadata": {
        "id": "NdUxJ2Tm0TI6",
        "colab_type": "code",
        "colab": {}
      },
      "cell_type": "code",
      "source": [
        "from sklearn.feature_extraction.text import CountVectorizer"
      ],
      "execution_count": 0,
      "outputs": []
    },
    {
      "metadata": {
        "id": "jpg2qD3V0TTD",
        "colab_type": "code",
        "colab": {}
      },
      "cell_type": "code",
      "source": [
        "spam['v2'] = CountVectorizer(analyzer=process_text).fit_transform(spam['v2'])"
      ],
      "execution_count": 0,
      "outputs": []
    },
    {
      "metadata": {
        "id": "nV_U4xv70vVr",
        "colab_type": "code",
        "colab": {}
      },
      "cell_type": "code",
      "source": [
        "vec_tokens = CountVectorizer(min_df=2,max_features=20000,analyzer=process_text).fit_transform(spam['v2'])"
      ],
      "execution_count": 0,
      "outputs": []
    },
    {
      "metadata": {
        "id": "he6qPqoZ1n7C",
        "colab_type": "code",
        "colab": {
          "base_uri": "https://localhost:8080/",
          "height": 51
        },
        "outputId": "9aa7ca3b-a848-4ab5-9dd1-61f46e01faaa"
      },
      "cell_type": "code",
      "source": [
        "vec_tokens"
      ],
      "execution_count": 73,
      "outputs": [
        {
          "output_type": "execute_result",
          "data": {
            "text/plain": [
              "<5572x314 sparse matrix of type '<class 'numpy.int64'>'\n",
              "\twith 772 stored elements in Compressed Sparse Row format>"
            ]
          },
          "metadata": {
            "tags": []
          },
          "execution_count": 73
        }
      ]
    }
  ]
}